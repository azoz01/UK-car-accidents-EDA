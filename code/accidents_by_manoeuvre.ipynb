{
 "cells": [
  {
   "cell_type": "code",
   "execution_count": 1,
   "id": "6b6e3dee",
   "metadata": {
    "ExecuteTime": {
     "end_time": "2021-11-12T00:17:18.157456Z",
     "start_time": "2021-11-12T00:17:14.689467Z"
    }
   },
   "outputs": [],
   "source": [
    "from jupyterthemes import jtplot\n",
    "jtplot.style()"
   ]
  },
  {
   "cell_type": "code",
   "execution_count": 2,
   "id": "afb71d94",
   "metadata": {
    "ExecuteTime": {
     "end_time": "2021-11-12T00:17:18.172473Z",
     "start_time": "2021-11-12T00:17:18.161460Z"
    }
   },
   "outputs": [],
   "source": [
    "import pandas as pd\n",
    "import matplotlib.pyplot as plt"
   ]
  },
  {
   "cell_type": "code",
   "execution_count": 3,
   "id": "6c8cf6d7",
   "metadata": {
    "ExecuteTime": {
     "end_time": "2021-11-12T00:17:37.194747Z",
     "start_time": "2021-11-12T00:17:18.184467Z"
    }
   },
   "outputs": [],
   "source": [
    "accidents = pd.read_csv('../data/accidents.csv')\n",
    "casualties = pd.read_csv('../data/casualties.csv', on_bad_lines = 'skip')\n",
    "vehicles = pd.read_csv('../data/vehicles.csv', on_bad_lines = 'skip')"
   ]
  },
  {
   "cell_type": "code",
   "execution_count": 4,
   "id": "b61fe4fd",
   "metadata": {
    "ExecuteTime": {
     "end_time": "2021-11-12T00:17:46.131614Z",
     "start_time": "2021-11-12T00:17:37.199758Z"
    }
   },
   "outputs": [],
   "source": [
    "accidents_vehicles = accidents.merge(vehicles, how='left', on='Accident_Index')"
   ]
  },
  {
   "cell_type": "code",
   "execution_count": 5,
   "id": "74c9a555",
   "metadata": {
    "ExecuteTime": {
     "end_time": "2021-11-12T00:17:46.148626Z",
     "start_time": "2021-11-12T00:17:46.134622Z"
    }
   },
   "outputs": [],
   "source": [
    "def transform_label(l):\n",
    "    if 'Turning' in l:\n",
    "        return 'Turning'\n",
    "    elif 'Changing lane' in l:\n",
    "        return 'Changing lane'\n",
    "    elif 'Overtaking' in l:\n",
    "        return 'Overtaking'\n",
    "    elif 'Going ahead' in l:\n",
    "        return 'Going ahead'\n",
    "    return l\n",
    "    "
   ]
  },
  {
   "cell_type": "code",
   "execution_count": 6,
   "id": "a4d765f8",
   "metadata": {
    "ExecuteTime": {
     "end_time": "2021-11-12T00:17:46.385615Z",
     "start_time": "2021-11-12T00:17:46.155634Z"
    }
   },
   "outputs": [
    {
     "data": {
      "text/html": [
       "<div>\n",
       "<style scoped>\n",
       "    .dataframe tbody tr th:only-of-type {\n",
       "        vertical-align: middle;\n",
       "    }\n",
       "\n",
       "    .dataframe tbody tr th {\n",
       "        vertical-align: top;\n",
       "    }\n",
       "\n",
       "    .dataframe thead th {\n",
       "        text-align: right;\n",
       "    }\n",
       "</style>\n",
       "<table border=\"1\" class=\"dataframe\">\n",
       "  <thead>\n",
       "    <tr style=\"text-align: right;\">\n",
       "      <th></th>\n",
       "      <th>maneouvre</th>\n",
       "      <th>size</th>\n",
       "    </tr>\n",
       "  </thead>\n",
       "  <tbody>\n",
       "    <tr>\n",
       "      <th>5</th>\n",
       "      <td>U-turn</td>\n",
       "      <td>22394</td>\n",
       "    </tr>\n",
       "    <tr>\n",
       "      <th>3</th>\n",
       "      <td>Reversing</td>\n",
       "      <td>41089</td>\n",
       "    </tr>\n",
       "    <tr>\n",
       "      <th>0</th>\n",
       "      <td>Changing lane</td>\n",
       "      <td>56192</td>\n",
       "    </tr>\n",
       "    <tr>\n",
       "      <th>1</th>\n",
       "      <td>Moving off</td>\n",
       "      <td>113009</td>\n",
       "    </tr>\n",
       "    <tr>\n",
       "      <th>2</th>\n",
       "      <td>Overtaking</td>\n",
       "      <td>117561</td>\n",
       "    </tr>\n",
       "    <tr>\n",
       "      <th>4</th>\n",
       "      <td>Turning</td>\n",
       "      <td>385128</td>\n",
       "    </tr>\n",
       "  </tbody>\n",
       "</table>\n",
       "</div>"
      ],
      "text/plain": [
       "       maneouvre    size\n",
       "5         U-turn   22394\n",
       "3      Reversing   41089\n",
       "0  Changing lane   56192\n",
       "1     Moving off  113009\n",
       "2     Overtaking  117561\n",
       "4        Turning  385128"
      ]
     },
     "execution_count": 6,
     "metadata": {},
     "output_type": "execute_result"
    }
   ],
   "source": [
    "summary = accidents_vehicles.groupby('Vehicle_Manoeuvre', as_index=False).size()\n",
    "summary = summary[list(map(lambda x: x not in [2, 3, 4, -1, 8, 10, 16, 17, 18], summary['Vehicle_Manoeuvre']))]\n",
    "maneouvre_names = pd.read_csv('../data/context/Vehicle_Manoeuvre.csv')\n",
    "summary = summary.merge(maneouvre_names, how='left', left_on='Vehicle_Manoeuvre', right_on='code'). \\\n",
    "    drop(columns=['Vehicle_Manoeuvre', 'code'])\n",
    "summary = summary.assign(\n",
    "    maneouvre = list(map(transform_label, summary.label))\n",
    ").drop(columns=['label'])\n",
    "summary = summary.groupby('maneouvre', as_index = False).sum('size')\n",
    "summary = summary.sort_values('size')\n",
    "summary"
   ]
  },
  {
   "cell_type": "code",
   "execution_count": 7,
   "id": "837a10ca",
   "metadata": {
    "ExecuteTime": {
     "end_time": "2021-11-12T00:17:46.863619Z",
     "start_time": "2021-11-12T00:17:46.390624Z"
    }
   },
   "outputs": [
    {
     "data": {
      "image/png": "[encoded data removed]",
      "text/plain": [
       "<Figure size 432x288 with 1 Axes>"
      ]
     },
     "metadata": {},
     "output_type": "display_data"
    }
   ],
   "source": [
    "plot = plt.bar(x=summary['maneouvre'], height=summary['size'])\n",
    "ax = plot[0].axes\n",
    "plt.xticks(rotation=45)\n",
    "ax.ticklabel_format(style='plain', axis='y')\n",
    "plt.title('Accidents by maneouvre')\n",
    "plt.savefig('../plots/accidents_by_maneouvre.jpeg')"
   ]
  }
 ],
 "metadata": {
  "kernelspec": {
   "display_name": "Data science",
   "language": "python",
   "name": "data-science"
  },
  "language_info": {
   "codemirror_mode": {
    "name": "ipython",
    "version": 3
   },
   "file_extension": ".py",
   "mimetype": "text/x-python",
   "name": "python",
   "nbconvert_exporter": "python",
   "pygments_lexer": "ipython3",
   "version": "3.8.10"
  },
  "nbTranslate": {
   "displayLangs": [
    "en"
   ],
   "hotkey": "alt-t",
   "langInMainMenu": true,
   "sourceLang": "en",
   "targetLang": "pl",
   "useGoogleTranslate": true
  },
  "varInspector": {
   "cols": {
    "lenName": 16,
    "lenType": 16,
    "lenVar": 40
   },
   "kernels_config": {
    "python": {
     "delete_cmd_postfix": "",
     "delete_cmd_prefix": "del ",
     "library": "var_list.py",
     "varRefreshCmd": "print(var_dic_list())"
    },
    "r": {
     "delete_cmd_postfix": ") ",
     "delete_cmd_prefix": "rm(",
     "library": "var_list.r",
     "varRefreshCmd": "cat(var_dic_list()) "
    }
   },
   "types_to_exclude": [
    "module",
    "function",
    "builtin_function_or_method",
    "instance",
    "_Feature"
   ],
   "window_display": false
  }
 },
 "nbformat": 4,
 "nbformat_minor": 5
}
