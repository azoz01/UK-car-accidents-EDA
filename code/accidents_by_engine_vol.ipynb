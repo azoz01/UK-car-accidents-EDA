{
 "cells": [
  {
   "cell_type": "code",
   "execution_count": 60,
   "id": "f6b1b2c2",
   "metadata": {},
   "outputs": [],
   "source": [
    "import pandas as pd\n",
    "import matplotlib.pyplot as plt\n",
    "from math import floor"
   ]
  },
  {
   "cell_type": "code",
   "execution_count": 61,
   "id": "6e448791",
   "metadata": {},
   "outputs": [],
   "source": [
    "accidents = pd.read_csv('../data/accidents.csv')\n",
    "casualties = pd.read_csv('../data/casualties.csv', on_bad_lines = 'skip')\n",
    "vehicles = pd.read_csv('../data/vehicles.csv', on_bad_lines = 'skip')"
   ]
  },
  {
   "cell_type": "code",
   "execution_count": 62,
   "id": "4de12265",
   "metadata": {},
   "outputs": [],
   "source": [
    "accidents_vehicles = accidents.merge(vehicles, how='left', on='Accident_Index')\n"
   ]
  },
  {
   "cell_type": "code",
   "execution_count": 63,
   "id": "f00745c9",
   "metadata": {},
   "outputs": [
    {
     "data": {
      "text/html": [
       "<div>\n",
       "<style scoped>\n",
       "    .dataframe tbody tr th:only-of-type {\n",
       "        vertical-align: middle;\n",
       "    }\n",
       "\n",
       "    .dataframe tbody tr th {\n",
       "        vertical-align: top;\n",
       "    }\n",
       "\n",
       "    .dataframe thead th {\n",
       "        text-align: right;\n",
       "    }\n",
       "</style>\n",
       "<table border=\"1\" class=\"dataframe\">\n",
       "  <thead>\n",
       "    <tr style=\"text-align: right;\">\n",
       "      <th></th>\n",
       "      <th>0</th>\n",
       "      <th>engine_capacity_l</th>\n",
       "      <th>engine_capacity_tick</th>\n",
       "    </tr>\n",
       "  </thead>\n",
       "  <tbody>\n",
       "    <tr>\n",
       "      <th>0</th>\n",
       "      <td>2</td>\n",
       "      <td>0.001</td>\n",
       "      <td>0.0</td>\n",
       "    </tr>\n",
       "    <tr>\n",
       "      <th>1</th>\n",
       "      <td>4</td>\n",
       "      <td>0.002</td>\n",
       "      <td>0.0</td>\n",
       "    </tr>\n",
       "    <tr>\n",
       "      <th>2</th>\n",
       "      <td>1</td>\n",
       "      <td>0.003</td>\n",
       "      <td>0.0</td>\n",
       "    </tr>\n",
       "    <tr>\n",
       "      <th>3</th>\n",
       "      <td>4</td>\n",
       "      <td>0.004</td>\n",
       "      <td>0.0</td>\n",
       "    </tr>\n",
       "    <tr>\n",
       "      <th>4</th>\n",
       "      <td>1</td>\n",
       "      <td>0.005</td>\n",
       "      <td>0.0</td>\n",
       "    </tr>\n",
       "    <tr>\n",
       "      <th>...</th>\n",
       "      <td>...</td>\n",
       "      <td>...</td>\n",
       "      <td>...</td>\n",
       "    </tr>\n",
       "    <tr>\n",
       "      <th>2390</th>\n",
       "      <td>2</td>\n",
       "      <td>8.370</td>\n",
       "      <td>8.0</td>\n",
       "    </tr>\n",
       "    <tr>\n",
       "      <th>2391</th>\n",
       "      <td>1</td>\n",
       "      <td>8.371</td>\n",
       "      <td>8.0</td>\n",
       "    </tr>\n",
       "    <tr>\n",
       "      <th>2392</th>\n",
       "      <td>2</td>\n",
       "      <td>8.400</td>\n",
       "      <td>8.0</td>\n",
       "    </tr>\n",
       "    <tr>\n",
       "      <th>2393</th>\n",
       "      <td>1</td>\n",
       "      <td>8.419</td>\n",
       "      <td>8.0</td>\n",
       "    </tr>\n",
       "    <tr>\n",
       "      <th>2394</th>\n",
       "      <td>1</td>\n",
       "      <td>8.460</td>\n",
       "      <td>8.0</td>\n",
       "    </tr>\n",
       "  </tbody>\n",
       "</table>\n",
       "<p>2395 rows × 3 columns</p>\n",
       "</div>"
      ],
      "text/plain": [
       "      0  engine_capacity_l  engine_capacity_tick\n",
       "0     2              0.001                   0.0\n",
       "1     4              0.002                   0.0\n",
       "2     1              0.003                   0.0\n",
       "3     4              0.004                   0.0\n",
       "4     1              0.005                   0.0\n",
       "...  ..                ...                   ...\n",
       "2390  2              8.370                   8.0\n",
       "2391  1              8.371                   8.0\n",
       "2392  2              8.400                   8.0\n",
       "2393  1              8.419                   8.0\n",
       "2394  1              8.460                   8.0\n",
       "\n",
       "[2395 rows x 3 columns]"
      ]
     },
     "execution_count": 63,
     "metadata": {},
     "output_type": "execute_result"
    }
   ],
   "source": [
    "accidents_vehicles = accidents_vehicles[accidents_vehicles['Engine_Capacity_(CC)'] > 0]\n",
    "summary = pd.DataFrame(accidents_vehicles.groupby('Engine_Capacity_(CC)').size()).reset_index(drop=False)\n",
    "summary = summary.assign(\n",
    "    engine_capacity_l= summary['Engine_Capacity_(CC)']/1000\n",
    ").drop(columns = 'Engine_Capacity_(CC)')\n",
    "summary = summary[(summary['engine_capacity_l'] > 0) & (summary['engine_capacity_l'] < 8.5)]\n",
    "summary = summary.assign(\n",
    "    engine_capacity_tick= summary['engine_capacity_l']//.5*.5\n",
    ")\n",
    "summary"
   ]
  },
  {
   "cell_type": "code",
   "execution_count": 64,
   "id": "0426affb",
   "metadata": {},
   "outputs": [
    {
     "data": {
      "image/png": "[encoded data removed]",
      "text/plain": [
       "<Figure size 432x288 with 1 Axes>"
      ]
     },
     "metadata": {
      "needs_background": "light"
     },
     "output_type": "display_data"
    }
   ],
   "source": [
    "plot = plt.bar(x=summary['engine_capacity_tick'], height=summary[0])\n",
    "plt.xticks(list(range(1, 9)))\n",
    "plt.savefig('../plots/accidents_by_engine_vol.jpeg')"
   ]
  }
 ],
 "metadata": {
  "kernelspec": {
   "display_name": "PyCharm (AiSD)",
   "language": "python",
   "name": "pycharm-305b5de"
  },
  "language_info": {
   "codemirror_mode": {
    "name": "ipython",
    "version": 3
   },
   "file_extension": ".py",
   "mimetype": "text/x-python",
   "name": "python",
   "nbconvert_exporter": "python",
   "pygments_lexer": "ipython3",
   "version": "3.8.5"
  }
 },
 "nbformat": 4,
 "nbformat_minor": 5
}
