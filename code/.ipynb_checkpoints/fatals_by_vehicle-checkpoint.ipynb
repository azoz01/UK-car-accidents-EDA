{
 "cells": [
  {
   "cell_type": "code",
   "execution_count": 1,
   "id": "efb4d6fd",
   "metadata": {},
   "outputs": [],
   "source": [
    "import pandas as pd\n",
    "import matplotlib.pyplot as plt"
   ]
  },
  {
   "cell_type": "code",
   "execution_count": 2,
   "id": "225b2ca0",
   "metadata": {},
   "outputs": [],
   "source": [
    "accidents = pd.read_csv('../data/accidents.csv')\n",
    "casualties = pd.read_csv('../data/casualties.csv', on_bad_lines = 'skip')\n",
    "vehicles = pd.read_csv('../data/vehicles.csv', on_bad_lines = 'skip')"
   ]
  },
  {
   "cell_type": "code",
   "execution_count": 3,
   "id": "05717d0e",
   "metadata": {},
   "outputs": [],
   "source": [
    "total_accidents_vehicle = accidents.merge(vehicles, how='left', on='Accident_Index')\n",
    "total_accidents_vehicle_casualties = total_accidents_vehicle.merge(casualties, how='left', on=['Accident_Index', 'Vehicle_Reference'])\n",
    "fatal_accidents = total_accidents_vehicle_casualties[total_accidents_vehicle_casualties['Casualty_Severity'] == 1]"
   ]
  },
  {
   "cell_type": "code",
   "execution_count": 4,
   "id": "85ba5a03",
   "metadata": {},
   "outputs": [],
   "source": [
    "fatal_summary = pd.DataFrame(fatal_accidents.groupby('Vehicle_Type').size()).reset_index(drop = False)\n",
    "fatal_summary = fatal_summary[fatal_summary['Vehicle_Type'] > 0]\n",
    "fatal_summary = fatal_summary[fatal_summary['Vehicle_Type'] < 19]"
   ]
  },
  {
   "cell_type": "code",
   "execution_count": 5,
   "id": "9cfe4f06",
   "metadata": {},
   "outputs": [],
   "source": [
    "vehicle_names = pd.read_csv('../data/context/Vehicle_Type.csv')"
   ]
  },
  {
   "cell_type": "code",
   "execution_count": 6,
   "id": "91fdc078",
   "metadata": {},
   "outputs": [],
   "source": [
    "fatal_summary = fatal_summary.merge(vehicle_names, how = 'left', left_on = 'Vehicle_Type', right_on = 'code'). \\\n",
    "                drop(columns = ['code', 'Vehicle_Type'])\n",
    "fatal_summary.columns = ['count', 'vehicle']"
   ]
  },
  {
   "cell_type": "code",
   "execution_count": 7,
   "id": "63cf2eec",
   "metadata": {},
   "outputs": [
    {
     "data": {
      "text/html": [
       "<div>\n",
       "<style scoped>\n",
       "    .dataframe tbody tr th:only-of-type {\n",
       "        vertical-align: middle;\n",
       "    }\n",
       "\n",
       "    .dataframe tbody tr th {\n",
       "        vertical-align: top;\n",
       "    }\n",
       "\n",
       "    .dataframe thead th {\n",
       "        text-align: right;\n",
       "    }\n",
       "</style>\n",
       "<table border=\"1\" class=\"dataframe\">\n",
       "  <thead>\n",
       "    <tr style=\"text-align: right;\">\n",
       "      <th></th>\n",
       "      <th>count</th>\n",
       "      <th>vehicle</th>\n",
       "    </tr>\n",
       "  </thead>\n",
       "  <tbody>\n",
       "    <tr>\n",
       "      <th>0</th>\n",
       "      <td>1237</td>\n",
       "      <td>Pedal cycle</td>\n",
       "    </tr>\n",
       "    <tr>\n",
       "      <th>1</th>\n",
       "      <td>145</td>\n",
       "      <td>Motorcycle 50cc and under</td>\n",
       "    </tr>\n",
       "    <tr>\n",
       "      <th>2</th>\n",
       "      <td>602</td>\n",
       "      <td>Motorcycle 125cc and under</td>\n",
       "    </tr>\n",
       "    <tr>\n",
       "      <th>3</th>\n",
       "      <td>481</td>\n",
       "      <td>Motorcycle over 125cc and up to 500cc</td>\n",
       "    </tr>\n",
       "    <tr>\n",
       "      <th>4</th>\n",
       "      <td>3425</td>\n",
       "      <td>Motorcycle over 500cc</td>\n",
       "    </tr>\n",
       "    <tr>\n",
       "      <th>5</th>\n",
       "      <td>281</td>\n",
       "      <td>Taxi/Private hire car</td>\n",
       "    </tr>\n",
       "    <tr>\n",
       "      <th>6</th>\n",
       "      <td>14331</td>\n",
       "      <td>Car</td>\n",
       "    </tr>\n",
       "    <tr>\n",
       "      <th>7</th>\n",
       "      <td>75</td>\n",
       "      <td>Minibus (8 - 16 passenger seats)</td>\n",
       "    </tr>\n",
       "    <tr>\n",
       "      <th>8</th>\n",
       "      <td>473</td>\n",
       "      <td>Bus or coach (17 or more pass seats)</td>\n",
       "    </tr>\n",
       "    <tr>\n",
       "      <th>9</th>\n",
       "      <td>21</td>\n",
       "      <td>Ridden horse</td>\n",
       "    </tr>\n",
       "    <tr>\n",
       "      <th>10</th>\n",
       "      <td>37</td>\n",
       "      <td>Agricultural vehicle</td>\n",
       "    </tr>\n",
       "    <tr>\n",
       "      <th>11</th>\n",
       "      <td>7</td>\n",
       "      <td>Tram</td>\n",
       "    </tr>\n",
       "  </tbody>\n",
       "</table>\n",
       "</div>"
      ],
      "text/plain": [
       "    count                                vehicle\n",
       "0    1237                            Pedal cycle\n",
       "1     145              Motorcycle 50cc and under\n",
       "2     602             Motorcycle 125cc and under\n",
       "3     481  Motorcycle over 125cc and up to 500cc\n",
       "4    3425                  Motorcycle over 500cc\n",
       "5     281                  Taxi/Private hire car\n",
       "6   14331                                    Car\n",
       "7      75       Minibus (8 - 16 passenger seats)\n",
       "8     473   Bus or coach (17 or more pass seats)\n",
       "9      21                           Ridden horse\n",
       "10     37                   Agricultural vehicle\n",
       "11      7                                   Tram"
      ]
     },
     "execution_count": 7,
     "metadata": {},
     "output_type": "execute_result"
    }
   ],
   "source": [
    "fatal_summary"
   ]
  },
  {
   "cell_type": "code",
   "execution_count": 8,
   "id": "075eb7f0",
   "metadata": {},
   "outputs": [
    {
     "data": {
      "text/html": [
       "<div>\n",
       "<style scoped>\n",
       "    .dataframe tbody tr th:only-of-type {\n",
       "        vertical-align: middle;\n",
       "    }\n",
       "\n",
       "    .dataframe tbody tr th {\n",
       "        vertical-align: top;\n",
       "    }\n",
       "\n",
       "    .dataframe thead th {\n",
       "        text-align: right;\n",
       "    }\n",
       "</style>\n",
       "<table border=\"1\" class=\"dataframe\">\n",
       "  <thead>\n",
       "    <tr style=\"text-align: right;\">\n",
       "      <th></th>\n",
       "      <th>count</th>\n",
       "      <th>vehicle</th>\n",
       "    </tr>\n",
       "  </thead>\n",
       "  <tbody>\n",
       "    <tr>\n",
       "      <th>0</th>\n",
       "      <td>184083</td>\n",
       "      <td>Pedal cycle</td>\n",
       "    </tr>\n",
       "    <tr>\n",
       "      <th>1</th>\n",
       "      <td>37224</td>\n",
       "      <td>Motorcycle 50cc and under</td>\n",
       "    </tr>\n",
       "    <tr>\n",
       "      <th>2</th>\n",
       "      <td>70152</td>\n",
       "      <td>Motorcycle 125cc and under</td>\n",
       "    </tr>\n",
       "    <tr>\n",
       "      <th>3</th>\n",
       "      <td>25686</td>\n",
       "      <td>Motorcycle over 125cc and up to 500cc</td>\n",
       "    </tr>\n",
       "    <tr>\n",
       "      <th>4</th>\n",
       "      <td>86904</td>\n",
       "      <td>Motorcycle over 500cc</td>\n",
       "    </tr>\n",
       "    <tr>\n",
       "      <th>5</th>\n",
       "      <td>52409</td>\n",
       "      <td>Taxi/Private hire car</td>\n",
       "    </tr>\n",
       "    <tr>\n",
       "      <th>6</th>\n",
       "      <td>2205201</td>\n",
       "      <td>Car</td>\n",
       "    </tr>\n",
       "    <tr>\n",
       "      <th>7</th>\n",
       "      <td>8387</td>\n",
       "      <td>Minibus (8 - 16 passenger seats)</td>\n",
       "    </tr>\n",
       "    <tr>\n",
       "      <th>8</th>\n",
       "      <td>76888</td>\n",
       "      <td>Bus or coach (17 or more pass seats)</td>\n",
       "    </tr>\n",
       "    <tr>\n",
       "      <th>9</th>\n",
       "      <td>1297</td>\n",
       "      <td>Ridden horse</td>\n",
       "    </tr>\n",
       "    <tr>\n",
       "      <th>10</th>\n",
       "      <td>6304</td>\n",
       "      <td>Agricultural vehicle</td>\n",
       "    </tr>\n",
       "    <tr>\n",
       "      <th>11</th>\n",
       "      <td>250</td>\n",
       "      <td>Tram</td>\n",
       "    </tr>\n",
       "  </tbody>\n",
       "</table>\n",
       "</div>"
      ],
      "text/plain": [
       "      count                                vehicle\n",
       "0    184083                            Pedal cycle\n",
       "1     37224              Motorcycle 50cc and under\n",
       "2     70152             Motorcycle 125cc and under\n",
       "3     25686  Motorcycle over 125cc and up to 500cc\n",
       "4     86904                  Motorcycle over 500cc\n",
       "5     52409                  Taxi/Private hire car\n",
       "6   2205201                                    Car\n",
       "7      8387       Minibus (8 - 16 passenger seats)\n",
       "8     76888   Bus or coach (17 or more pass seats)\n",
       "9      1297                           Ridden horse\n",
       "10     6304                   Agricultural vehicle\n",
       "11      250                                   Tram"
      ]
     },
     "execution_count": 8,
     "metadata": {},
     "output_type": "execute_result"
    }
   ],
   "source": [
    "summary = pd.DataFrame(total_accidents_vehicle.groupby('Vehicle_Type').size()).reset_index(drop = False)\n",
    "summary = summary[summary['Vehicle_Type'] > 0]\n",
    "summary = summary[summary['Vehicle_Type'] < 19]\n",
    "summary = summary.merge(vehicle_names, how = 'left', left_on = 'Vehicle_Type', right_on = 'code')\n",
    "summary = summary.drop(columns = ['Vehicle_Type', 'code'])\n",
    "summary.columns = ['count', 'vehicle']\n",
    "summary"
   ]
  },
  {
   "cell_type": "code",
   "execution_count": 9,
   "id": "584890fc",
   "metadata": {},
   "outputs": [],
   "source": [
    "def transform_label(label):\n",
    "    if 'Motorcycle' in label:\n",
    "        return 'Motorcycle'\n",
    "    elif 'car' in label or 'Car' in label:\n",
    "        return 'Car'\n",
    "    elif 'bus' in label or 'Bus' in label:\n",
    "        return 'Bus'\n",
    "    elif 'horse' in label:\n",
    "        return 'Horse'\n",
    "    return label"
   ]
  },
  {
   "cell_type": "code",
   "execution_count": 10,
   "id": "53982edd",
   "metadata": {},
   "outputs": [
    {
     "data": {
      "text/html": [
       "<div>\n",
       "<style scoped>\n",
       "    .dataframe tbody tr th:only-of-type {\n",
       "        vertical-align: middle;\n",
       "    }\n",
       "\n",
       "    .dataframe tbody tr th {\n",
       "        vertical-align: top;\n",
       "    }\n",
       "\n",
       "    .dataframe thead th {\n",
       "        text-align: right;\n",
       "    }\n",
       "</style>\n",
       "<table border=\"1\" class=\"dataframe\">\n",
       "  <thead>\n",
       "    <tr style=\"text-align: right;\">\n",
       "      <th></th>\n",
       "      <th>vehicle</th>\n",
       "      <th>count_x</th>\n",
       "      <th>count_y</th>\n",
       "      <th>ratio</th>\n",
       "    </tr>\n",
       "  </thead>\n",
       "  <tbody>\n",
       "    <tr>\n",
       "      <th>6</th>\n",
       "      <td>Tram</td>\n",
       "      <td>7</td>\n",
       "      <td>250</td>\n",
       "      <td>0.028000</td>\n",
       "    </tr>\n",
       "    <tr>\n",
       "      <th>4</th>\n",
       "      <td>Motorcycle</td>\n",
       "      <td>4653</td>\n",
       "      <td>219966</td>\n",
       "      <td>0.021153</td>\n",
       "    </tr>\n",
       "    <tr>\n",
       "      <th>3</th>\n",
       "      <td>Horse</td>\n",
       "      <td>21</td>\n",
       "      <td>1297</td>\n",
       "      <td>0.016191</td>\n",
       "    </tr>\n",
       "    <tr>\n",
       "      <th>5</th>\n",
       "      <td>Pedal cycle</td>\n",
       "      <td>1237</td>\n",
       "      <td>184083</td>\n",
       "      <td>0.006720</td>\n",
       "    </tr>\n",
       "    <tr>\n",
       "      <th>2</th>\n",
       "      <td>Car</td>\n",
       "      <td>14612</td>\n",
       "      <td>2257610</td>\n",
       "      <td>0.006472</td>\n",
       "    </tr>\n",
       "    <tr>\n",
       "      <th>1</th>\n",
       "      <td>Bus</td>\n",
       "      <td>548</td>\n",
       "      <td>85275</td>\n",
       "      <td>0.006426</td>\n",
       "    </tr>\n",
       "    <tr>\n",
       "      <th>0</th>\n",
       "      <td>Agricultural vehicle</td>\n",
       "      <td>37</td>\n",
       "      <td>6304</td>\n",
       "      <td>0.005869</td>\n",
       "    </tr>\n",
       "  </tbody>\n",
       "</table>\n",
       "</div>"
      ],
      "text/plain": [
       "                vehicle  count_x  count_y     ratio\n",
       "6                  Tram        7      250  0.028000\n",
       "4            Motorcycle     4653   219966  0.021153\n",
       "3                 Horse       21     1297  0.016191\n",
       "5           Pedal cycle     1237   184083  0.006720\n",
       "2                   Car    14612  2257610  0.006472\n",
       "1                   Bus      548    85275  0.006426\n",
       "0  Agricultural vehicle       37     6304  0.005869"
      ]
     },
     "execution_count": 10,
     "metadata": {},
     "output_type": "execute_result"
    }
   ],
   "source": [
    "fatals_with_summary = fatal_summary.merge(summary, how = 'left', on ='vehicle')\n",
    "fatals_with_summary = fatals_with_summary.assign(\n",
    "    vehicle = list(map(transform_label, fatals_with_summary.vehicle))\n",
    ")\n",
    "fatals_with_summary = fatals_with_summary.groupby('vehicle').sum(['count_x', 'count_y']).reset_index(drop=False)\n",
    "fatals_with_summary = fatals_with_summary.assign(\n",
    "    ratio = fatals_with_summary['count_x']/fatals_with_summary['count_y']\n",
    ")\n",
    "fatals_with_summary = fatals_with_summary.sort_values('ratio', ascending=False)\n",
    "fatals_with_summary"
   ]
  },
  {
   "cell_type": "code",
   "execution_count": 11,
   "id": "e9410ab8",
   "metadata": {},
   "outputs": [
    {
     "name": "stderr",
     "output_type": "stream",
     "text": [
      "C:\\Users\\user\\AppData\\Local\\Temp/ipykernel_13184/3310615623.py:3: UserWarning: FixedFormatter should only be used together with FixedLocator\n",
      "  ax.set_yticklabels(['{:,.2}%'.format(x) for x in ax.get_yticks()])\n"
     ]
    },
    {
     "data": {
      "image/png": "[encoded data removed]",
      "text/plain": [
       "<Figure size 432x288 with 1 Axes>"
      ]
     },
     "metadata": {
      "needs_background": "light"
     },
     "output_type": "display_data"
    }
   ],
   "source": [
    "plot = plt.bar(x=fatals_with_summary['vehicle'], height=fatals_with_summary['ratio']*100, color='grey')\n",
    "ax = plot[0].axes\n",
    "ax.set_yticklabels(['{:,.2}%'.format(x) for x in ax.get_yticks()])\n",
    "plt.xticks(rotation=45)\n",
    "plt.title('Fatality of accidents depending on vehicle type')\n",
    "plt.savefig('../plots/fatals_by_vehicle_type.jpeg')"
   ]
  },
  {
   "cell_type": "code",
   "execution_count": 136,
   "id": "55d85d1a",
   "metadata": {},
   "outputs": [
    {
     "data": {
      "image/png": "[encoded data removed]",
      "text/plain": [
       "<Figure size 432x288 with 1 Axes>"
      ]
     },
     "metadata": {
      "needs_background": "light"
     },
     "output_type": "display_data"
    }
   ],
   "source": [
    "plot = plt.bar(x=fatals_with_summary['vehicle'], height=fatals_with_summary['count_y'])\n",
    "ax = plot[0].axes\n",
    "ax.ticklabel_format(style='plain', axis='y')\n",
    "plt.xticks(rotation=45)\n",
    "plt.title('Accidents by vehicle type')\n",
    "plt.savefig('../plots/accidents_by_vehicle_type.jpeg')"
   ]
  }
 ],
 "metadata": {
  "kernelspec": {
   "display_name": "PyCharm (AiSD)",
   "language": "python",
   "name": "pycharm-305b5de"
  },
  "language_info": {
   "codemirror_mode": {
    "name": "ipython",
    "version": 3
   },
   "file_extension": ".py",
   "mimetype": "text/x-python",
   "name": "python",
   "nbconvert_exporter": "python",
   "pygments_lexer": "ipython3",
   "version": "3.8.5"
  }
 },
 "nbformat": 4,
 "nbformat_minor": 5
}
