{
 "cells": [
  {
   "cell_type": "code",
   "execution_count": 60,
   "id": "a882a829",
   "metadata": {},
   "outputs": [],
   "source": [
    "import pandas as pd\n",
    "import matplotlib.pyplot as plt"
   ]
  },
  {
   "cell_type": "code",
   "execution_count": 61,
   "id": "819d062f",
   "metadata": {},
   "outputs": [],
   "source": [
    "accidents = pd.read_csv('../data/accidents.csv')\n",
    "casualties = pd.read_csv('../data/casualties.csv', on_bad_lines = 'skip')\n",
    "vehicles = pd.read_csv('../data/vehicles.csv', on_bad_lines = 'skip')"
   ]
  },
  {
   "cell_type": "code",
   "execution_count": 62,
   "id": "f81e1ea8",
   "metadata": {},
   "outputs": [],
   "source": [
    "accidents_vehicles = accidents.merge(vehicles, how='left', on='Accident_Index')"
   ]
  },
  {
   "cell_type": "code",
   "execution_count": 63,
   "id": "f1a3aab7",
   "metadata": {},
   "outputs": [],
   "source": [
    "def transform_label(l):\n",
    "    if 'Turning' in l:\n",
    "        return 'Turning'\n",
    "    elif 'Changing lane' in l:\n",
    "        return 'Changing lane'\n",
    "    elif 'Overtaking' in l:\n",
    "        return 'Overtaking'\n",
    "    elif 'Going ahead' in l:\n",
    "        return 'Going ahead'\n",
    "    return l\n",
    "    "
   ]
  },
  {
   "cell_type": "code",
   "execution_count": 64,
   "id": "597f1b4e",
   "metadata": {},
   "outputs": [
    {
     "data": {
      "text/html": [
       "<div>\n",
       "<style scoped>\n",
       "    .dataframe tbody tr th:only-of-type {\n",
       "        vertical-align: middle;\n",
       "    }\n",
       "\n",
       "    .dataframe tbody tr th {\n",
       "        vertical-align: top;\n",
       "    }\n",
       "\n",
       "    .dataframe thead th {\n",
       "        text-align: right;\n",
       "    }\n",
       "</style>\n",
       "<table border=\"1\" class=\"dataframe\">\n",
       "  <thead>\n",
       "    <tr style=\"text-align: right;\">\n",
       "      <th></th>\n",
       "      <th>maneouvre</th>\n",
       "      <th>size</th>\n",
       "    </tr>\n",
       "  </thead>\n",
       "  <tbody>\n",
       "    <tr>\n",
       "      <th>5</th>\n",
       "      <td>U-turn</td>\n",
       "      <td>22394</td>\n",
       "    </tr>\n",
       "    <tr>\n",
       "      <th>3</th>\n",
       "      <td>Reversing</td>\n",
       "      <td>41089</td>\n",
       "    </tr>\n",
       "    <tr>\n",
       "      <th>0</th>\n",
       "      <td>Changing lane</td>\n",
       "      <td>56192</td>\n",
       "    </tr>\n",
       "    <tr>\n",
       "      <th>1</th>\n",
       "      <td>Moving off</td>\n",
       "      <td>113009</td>\n",
       "    </tr>\n",
       "    <tr>\n",
       "      <th>2</th>\n",
       "      <td>Overtaking</td>\n",
       "      <td>117561</td>\n",
       "    </tr>\n",
       "    <tr>\n",
       "      <th>4</th>\n",
       "      <td>Turning</td>\n",
       "      <td>385128</td>\n",
       "    </tr>\n",
       "  </tbody>\n",
       "</table>\n",
       "</div>"
      ],
      "text/plain": [
       "       maneouvre    size\n",
       "5         U-turn   22394\n",
       "3      Reversing   41089\n",
       "0  Changing lane   56192\n",
       "1     Moving off  113009\n",
       "2     Overtaking  117561\n",
       "4        Turning  385128"
      ]
     },
     "execution_count": 64,
     "metadata": {},
     "output_type": "execute_result"
    }
   ],
   "source": [
    "summary = accidents_vehicles.groupby('Vehicle_Manoeuvre', as_index=False).size()\n",
    "summary = summary[list(map(lambda x: x not in [2, 3, 4, -1, 8, 10, 16, 17, 18], summary['Vehicle_Manoeuvre']))]\n",
    "maneouvre_names = pd.read_csv('../data/context/Vehicle_Manoeuvre.csv')\n",
    "summary = summary.merge(maneouvre_names, how='left', left_on='Vehicle_Manoeuvre', right_on='code'). \\\n",
    "    drop(columns=['Vehicle_Manoeuvre', 'code'])\n",
    "summary = summary.assign(\n",
    "    maneouvre = list(map(transform_label, summary.label))\n",
    ").drop(columns=['label'])\n",
    "summary = summary.groupby('maneouvre', as_index = False).sum('size')\n",
    "summary = summary.sort_values('size')\n",
    "summary"
   ]
  },
  {
   "cell_type": "code",
   "execution_count": 65,
   "id": "b3cf8eec",
   "metadata": {},
   "outputs": [
    {
     "data": {
      "image/png": "[encoded data removed]",
      "text/plain": [
       "<Figure size 432x288 with 1 Axes>"
      ]
     },
     "metadata": {
      "needs_background": "light"
     },
     "output_type": "display_data"
    }
   ],
   "source": [
    "plot = plt.bar(x=summary['maneouvre'], height=summary['size'])\n",
    "ax = plot[0].axes\n",
    "plt.xticks(rotation=45)\n",
    "ax.ticklabel_format(style='plain', axis='y')\n",
    "plt.title('Accidents by maneouvre')\n",
    "plt.savefig('../plots/accidents_by_maneouvre.jpeg')"
   ]
  }
 ],
 "metadata": {
  "kernelspec": {
   "display_name": "PyCharm (AiSD)",
   "language": "python",
   "name": "pycharm-305b5de"
  },
  "language_info": {
   "codemirror_mode": {
    "name": "ipython",
    "version": 3
   },
   "file_extension": ".py",
   "mimetype": "text/x-python",
   "name": "python",
   "nbconvert_exporter": "python",
   "pygments_lexer": "ipython3",
   "version": "3.8.5"
  }
 },
 "nbformat": 4,
 "nbformat_minor": 5
}
